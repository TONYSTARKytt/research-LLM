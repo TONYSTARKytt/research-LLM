{
 "cells": [
  {
   "cell_type": "code",
   "execution_count": 33,
   "outputs": [],
   "source": [
    "import pandas as pd\n",
    "import numpy as np\n",
    "import tensorflow_hub as hub\n",
    "import tensorflow as tf\n",
    "import matplotlib.pyplot as plt\n",
    "import json"
   ],
   "metadata": {
    "collapsed": false
   }
  },
  {
   "cell_type": "code",
   "execution_count": 43,
   "outputs": [],
   "source": [
    "#Read Chemistry abstract title data from desktop#\n",
    "documents = []\n",
    "with open('/Users/ryansong612/Desktop/research-LLM/output/all.json', 'r') as file:\n",
    "    data = json.load(file)\n",
    "    for subject in data:\n",
    "        for article in data[subject]:\n",
    "            document = { \"subject\": subject,\n",
    "                         \"title\": article[\"title\"],\n",
    "                         \"abstract\": article[\"abstract\"]}\n",
    "            documents.append(document)\n",
    "\n",
    "#define embedding calculation function#\n",
    "def embed_sentences(sentences):\n",
    "    # Load the Universal Sentence Encoder module\n",
    "    module_url = \"https://tfhub.dev/google/universal-sentence-encoder/4\"\n",
    "    model = hub.load(module_url)\n",
    "    # Generate embeddings for the sentences\n",
    "    embeddings = model(sentences)\n",
    "    return embeddings\n",
    "\n",
    "#define similarity calculation function based on dot product#\n",
    "def compute_similarity(embedding1, embedding2):\n",
    "    # Compute cosine similarity between two embeddings\n",
    "    res = np.tensordot(embedding1, embedding2)\n",
    "    return res"
   ],
   "metadata": {
    "collapsed": false
   }
  },
  {
   "cell_type": "code",
   "execution_count": 35,
   "outputs": [
    {
     "ename": "TypeError",
     "evalue": "Missing required positional argument",
     "output_type": "error",
     "traceback": [
      "\u001B[0;31m---------------------------------------------------------------------------\u001B[0m",
      "\u001B[0;31mTypeError\u001B[0m                                 Traceback (most recent call last)",
      "Cell \u001B[0;32mIn[35], line 5\u001B[0m\n\u001B[1;32m      3\u001B[0m test \u001B[38;5;241m=\u001B[39m [documents[i][\u001B[38;5;124m\"\u001B[39m\u001B[38;5;124mtitle\u001B[39m\u001B[38;5;124m\"\u001B[39m]\u001B[38;5;241m+\u001B[39mdocuments[i][\u001B[38;5;124m\"\u001B[39m\u001B[38;5;124mabstract\u001B[39m\u001B[38;5;124m\"\u001B[39m] \u001B[38;5;28;01mfor\u001B[39;00m i \u001B[38;5;129;01min\u001B[39;00m \u001B[38;5;28mrange\u001B[39m(\u001B[38;5;28mlen\u001B[39m(documents))]\n\u001B[1;32m      4\u001B[0m embed \u001B[38;5;241m=\u001B[39m embed_sentences(test)\n\u001B[0;32m----> 5\u001B[0m simi1 \u001B[38;5;241m=\u001B[39m {i: compute_similarity(query_vec,embed[i]) \u001B[38;5;28;01mfor\u001B[39;00m i \u001B[38;5;129;01min\u001B[39;00m \u001B[38;5;28mrange\u001B[39m(\u001B[38;5;28mlen\u001B[39m(embed))}\n",
      "Cell \u001B[0;32mIn[35], line 5\u001B[0m, in \u001B[0;36m<dictcomp>\u001B[0;34m(.0)\u001B[0m\n\u001B[1;32m      3\u001B[0m test \u001B[38;5;241m=\u001B[39m [documents[i][\u001B[38;5;124m\"\u001B[39m\u001B[38;5;124mtitle\u001B[39m\u001B[38;5;124m\"\u001B[39m]\u001B[38;5;241m+\u001B[39mdocuments[i][\u001B[38;5;124m\"\u001B[39m\u001B[38;5;124mabstract\u001B[39m\u001B[38;5;124m\"\u001B[39m] \u001B[38;5;28;01mfor\u001B[39;00m i \u001B[38;5;129;01min\u001B[39;00m \u001B[38;5;28mrange\u001B[39m(\u001B[38;5;28mlen\u001B[39m(documents))]\n\u001B[1;32m      4\u001B[0m embed \u001B[38;5;241m=\u001B[39m embed_sentences(test)\n\u001B[0;32m----> 5\u001B[0m simi1 \u001B[38;5;241m=\u001B[39m {i: \u001B[43mcompute_similarity\u001B[49m\u001B[43m(\u001B[49m\u001B[43mquery_vec\u001B[49m\u001B[43m,\u001B[49m\u001B[43membed\u001B[49m\u001B[43m[\u001B[49m\u001B[43mi\u001B[49m\u001B[43m]\u001B[49m\u001B[43m)\u001B[49m \u001B[38;5;28;01mfor\u001B[39;00m i \u001B[38;5;129;01min\u001B[39;00m \u001B[38;5;28mrange\u001B[39m(\u001B[38;5;28mlen\u001B[39m(embed))}\n",
      "Cell \u001B[0;32mIn[34], line 24\u001B[0m, in \u001B[0;36mcompute_similarity\u001B[0;34m(embedding1, embedding2)\u001B[0m\n\u001B[1;32m     22\u001B[0m \u001B[38;5;28;01mdef\u001B[39;00m \u001B[38;5;21mcompute_similarity\u001B[39m(embedding1, embedding2):\n\u001B[1;32m     23\u001B[0m     \u001B[38;5;66;03m# Compute cosine similarity between two embeddings\u001B[39;00m\n\u001B[0;32m---> 24\u001B[0m     res \u001B[38;5;241m=\u001B[39m \u001B[43mtf\u001B[49m\u001B[38;5;241;43m.\u001B[39;49m\u001B[43mtensordot\u001B[49m\u001B[43m(\u001B[49m\u001B[43membedding1\u001B[49m\u001B[43m,\u001B[49m\u001B[43m \u001B[49m\u001B[43membedding2\u001B[49m\u001B[43m)\u001B[49m\n\u001B[1;32m     25\u001B[0m     \u001B[38;5;28;01mreturn\u001B[39;00m res\n",
      "File \u001B[0;32m~/anaconda3/lib/python3.10/site-packages/tensorflow/python/util/traceback_utils.py:153\u001B[0m, in \u001B[0;36mfilter_traceback.<locals>.error_handler\u001B[0;34m(*args, **kwargs)\u001B[0m\n\u001B[1;32m    151\u001B[0m \u001B[38;5;28;01mexcept\u001B[39;00m \u001B[38;5;167;01mException\u001B[39;00m \u001B[38;5;28;01mas\u001B[39;00m e:\n\u001B[1;32m    152\u001B[0m   filtered_tb \u001B[38;5;241m=\u001B[39m _process_traceback_frames(e\u001B[38;5;241m.\u001B[39m__traceback__)\n\u001B[0;32m--> 153\u001B[0m   \u001B[38;5;28;01mraise\u001B[39;00m e\u001B[38;5;241m.\u001B[39mwith_traceback(filtered_tb) \u001B[38;5;28;01mfrom\u001B[39;00m \u001B[38;5;28mNone\u001B[39m\n\u001B[1;32m    154\u001B[0m \u001B[38;5;28;01mfinally\u001B[39;00m:\n\u001B[1;32m    155\u001B[0m   \u001B[38;5;28;01mdel\u001B[39;00m filtered_tb\n",
      "File \u001B[0;32m~/anaconda3/lib/python3.10/site-packages/tensorflow/python/util/dispatch.py:1170\u001B[0m, in \u001B[0;36madd_dispatch_support.<locals>.decorator.<locals>.op_dispatch_handler\u001B[0;34m(*args, **kwargs)\u001B[0m\n\u001B[1;32m   1168\u001B[0m \u001B[38;5;28;01mif\u001B[39;00m iterable_params \u001B[38;5;129;01mis\u001B[39;00m \u001B[38;5;129;01mnot\u001B[39;00m \u001B[38;5;28;01mNone\u001B[39;00m:\n\u001B[1;32m   1169\u001B[0m   args, kwargs \u001B[38;5;241m=\u001B[39m replace_iterable_params(args, kwargs, iterable_params)\n\u001B[0;32m-> 1170\u001B[0m result \u001B[38;5;241m=\u001B[39m \u001B[43mapi_dispatcher\u001B[49m\u001B[38;5;241;43m.\u001B[39;49m\u001B[43mDispatch\u001B[49m\u001B[43m(\u001B[49m\u001B[43margs\u001B[49m\u001B[43m,\u001B[49m\u001B[43m \u001B[49m\u001B[43mkwargs\u001B[49m\u001B[43m)\u001B[49m\n\u001B[1;32m   1171\u001B[0m \u001B[38;5;28;01mif\u001B[39;00m result \u001B[38;5;129;01mis\u001B[39;00m \u001B[38;5;129;01mnot\u001B[39;00m \u001B[38;5;28mNotImplemented\u001B[39m:\n\u001B[1;32m   1172\u001B[0m   \u001B[38;5;28;01mreturn\u001B[39;00m result\n",
      "\u001B[0;31mTypeError\u001B[0m: Missing required positional argument"
     ]
    }
   ],
   "source": [
    "query = str(input('Enter query: '))\n",
    "query_vec = embed_sentences([query])\n",
    "test = [documents[i][\"title\"]+documents[i][\"abstract\"] for i in range(len(documents))]\n",
    "embed = embed_sentences(test)\n",
    "simi1 = {i: compute_similarity(query_vec,embed[i]) for i in range(len(embed))}"
   ],
   "metadata": {
    "collapsed": false
   }
  },
  {
   "cell_type": "code",
   "execution_count": null,
   "outputs": [],
   "source": [
    "index_max = max(range(len(simi1)), key=simi1.__getitem__)"
   ],
   "metadata": {
    "collapsed": false
   }
  },
  {
   "cell_type": "code",
   "execution_count": null,
   "outputs": [],
   "source": [
    "index_max"
   ],
   "metadata": {
    "collapsed": false
   }
  },
  {
   "cell_type": "code",
   "execution_count": null,
   "outputs": [],
   "source": [
    "documents[index_max]"
   ],
   "metadata": {
    "collapsed": false
   }
  },
  {
   "cell_type": "code",
   "execution_count": null,
   "outputs": [],
   "source": [
    "simi1[5]"
   ],
   "metadata": {
    "collapsed": false
   }
  },
  {
   "cell_type": "code",
   "execution_count": null,
   "outputs": [],
   "source": [
    "a=list(simi1.values())\n",
    "plt.plot(a)"
   ],
   "metadata": {
    "collapsed": false
   }
  },
  {
   "cell_type": "code",
   "execution_count": null,
   "outputs": [],
   "source": [
    "def SearchPaper(keySentence):\n",
    "    global documents\n",
    "    results = []\n",
    "    no = 0\n",
    "    while no < len(documents):\n",
    "        content = documents[no][\"abstract\"] + documents[no][\"title\"]\n",
    "        search = content.find(keySentence)\n",
    "        if search != -1:\n",
    "            results.append(no)\n",
    "        no += 1\n",
    "\n",
    "    print(\"Identified these papers (id):\")\n",
    "    msg = \"id: {id}\\ntitle: {title}\\nabstract:\\n{abstract}\"\n",
    "    for id in results:\n",
    "        title = documents[id]['title']\n",
    "        abstract = documents[id]['abstract']\n",
    "        print(msg.format(id=id, title=title, abstract=abstract))\n"
   ],
   "metadata": {
    "collapsed": false
   }
  },
  {
   "cell_type": "code",
   "execution_count": null,
   "outputs": [],
   "source": [
    "SearchPaper(\"Deep-symphysis\")"
   ],
   "metadata": {
    "collapsed": false
   }
  },
  {
   "cell_type": "code",
   "execution_count": null,
   "outputs": [],
   "source": [
    "simi1[5]"
   ],
   "metadata": {
    "collapsed": false
   }
  },
  {
   "cell_type": "code",
   "execution_count": null,
   "outputs": [],
   "source": [
    "documents[642]"
   ],
   "metadata": {
    "collapsed": false
   }
  },
  {
   "cell_type": "code",
   "execution_count": null,
   "outputs": [],
   "source": [
    "documents"
   ],
   "metadata": {
    "collapsed": false
   }
  },
  {
   "cell_type": "code",
   "execution_count": null,
   "outputs": [],
   "source": [
    "maximum = 0\n",
    "idx = 0\n",
    "counter = 0\n",
    "\n",
    "for counter, sim in enumerate(simi1.values()):\n",
    "    if sim[0] > maximum:\n",
    "        maximum = sim[0]\n",
    "        idx = counter\n",
    "\n",
    "idx"
   ],
   "metadata": {
    "collapsed": false
   }
  },
  {
   "cell_type": "code",
   "execution_count": null,
   "outputs": [],
   "source": [
    "documents[642]"
   ],
   "metadata": {
    "collapsed": false
   }
  },
  {
   "cell_type": "code",
   "execution_count": 44,
   "outputs": [
    {
     "data": {
      "text/plain": "array(0.12776253, dtype=float32)"
     },
     "execution_count": 44,
     "metadata": {},
     "output_type": "execute_result"
    }
   ],
   "source": [
    "vec1 = embed_sentences([\"Explain the effectiveness of the Multi-modal Deep-symphysis Prompt Tuning for Large Pre-trained  Vision-Language Models\"])\n",
    "vec2 = embed_sentences([documents[5]['title']])\n",
    "compute_similarity(vec1, vec2)"
   ],
   "metadata": {
    "collapsed": false
   }
  },
  {
   "cell_type": "code",
   "execution_count": null,
   "outputs": [],
   "source": [
    "#testing1#\n",
    "embd1 = embed_sentences([\"Application of computer science in mathematics.\"])\n",
    "embd2= embed_sentences([\"Application of computer science in mathematics.\"])\n",
    "# similarity = compute_similarity(embd1,embd2)\n",
    "# print(similarity*100)"
   ],
   "metadata": {
    "collapsed": false
   }
  },
  {
   "cell_type": "code",
   "execution_count": null,
   "outputs": [],
   "source": [
    "#testing2#\n",
    "embd1 = embed_sentences([\"Application of computer science in mathematics.\"])\n",
    "embd2 = embed_sentences([\"Application of computer science in mathematics\"])\n",
    "similarity=compute_similarity(embd1,embd2)\n",
    "print(similarity*100)"
   ],
   "metadata": {
    "collapsed": false
   }
  },
  {
   "cell_type": "code",
   "execution_count": null,
   "outputs": [],
   "source": [
    "#testing3#\n",
    "embd1 = embed_sentences([\"Application of computer science in mathematics\"])\n",
    "embd2 = embed_sentences([\"Application of computer science in mathematics\"])\n",
    "similarity=compute_similarity(embd1,embd2)\n",
    "print(similarity*100)"
   ],
   "metadata": {
    "collapsed": false
   }
  },
  {
   "cell_type": "code",
   "execution_count": null,
   "outputs": [],
   "source": [
    "#testing4#\n",
    "embd1 = embed_sentences([\"Application of computer science in mathematics.\"])\n",
    "embd2 = embed_sentences([\"Application of computer science in mathematics.Tom loves Marry.\"])\n",
    "similarity = compute_similarity(embd1,embd2)\n",
    "print(similarity*100)"
   ],
   "metadata": {
    "collapsed": false
   }
  },
  {
   "cell_type": "code",
   "execution_count": null,
   "outputs": [],
   "source": [
    "#testing5#\n",
    "embd1 = embed_sentences([\"Application of computer science in mathematics.\"])\n",
    "embd2 = embed_sentences([\"Application of computer science in mathematics Tom loves Marry.\"])\n",
    "similarity=compute_similarity(embd1,embd2)\n",
    "print(similarity*100)"
   ],
   "metadata": {
    "collapsed": false
   }
  },
  {
   "cell_type": "code",
   "execution_count": null,
   "outputs": [],
   "source": [
    "#testing6#\n",
    "embd1 = embed_sentences([\"Application of computer science in mathematics.\"])\n",
    "embd2 = embed_sentences([\"Application of computer science in mathematics Tom loves Marry Jerry loves Tom.\"])\n",
    "similarity=compute_similarity(embd1,embd2)\n",
    "print(similarity*100)"
   ],
   "metadata": {
    "collapsed": false
   }
  },
  {
   "cell_type": "code",
   "execution_count": null,
   "outputs": [],
   "source": [
    "#testing7#\n",
    "embd1 = embed_sentences([\"Application of computer science in mathematics.\"])\n",
    "embd2 = embed_sentences([\"Application of computer science in mathematics. Tom loves Marry. Jerry loves Tom.\"])\n",
    "similarity=compute_similarity(embd1,embd2)\n",
    "print(similarity*100)\n"
   ],
   "metadata": {
    "collapsed": false
   }
  },
  {
   "cell_type": "code",
   "execution_count": 42,
   "outputs": [
    {
     "data": {
      "text/plain": "<tf.Tensor: shape=(1, 2, 2), dtype=int32, numpy=\narray([[[1, 2],\n        [2, 4]]], dtype=int32)>"
     },
     "execution_count": 42,
     "metadata": {},
     "output_type": "execute_result"
    }
   ],
   "source": [],
   "metadata": {
    "collapsed": false
   }
  },
  {
   "cell_type": "code",
   "execution_count": null,
   "outputs": [],
   "source": [],
   "metadata": {
    "collapsed": false
   }
  }
 ],
 "metadata": {
  "kernelspec": {
   "display_name": "Python 3",
   "language": "python",
   "name": "python3"
  },
  "language_info": {
   "codemirror_mode": {
    "name": "ipython",
    "version": 2
   },
   "file_extension": ".py",
   "mimetype": "text/x-python",
   "name": "python",
   "nbconvert_exporter": "python",
   "pygments_lexer": "ipython2",
   "version": "2.7.6"
  }
 },
 "nbformat": 4,
 "nbformat_minor": 0
}
